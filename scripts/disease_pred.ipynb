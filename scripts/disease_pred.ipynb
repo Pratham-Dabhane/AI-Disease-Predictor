{
 "cells": [
  {
   "cell_type": "code",
   "execution_count": 1,
   "id": "89fee0a5",
   "metadata": {},
   "outputs": [],
   "source": [
    "import pandas as pd\n",
    "import joblib\n",
    "from sklearn.preprocessing import MultiLabelBinarizer\n",
    "from sklearn.preprocessing import LabelEncoder\n",
    "from sklearn.ensemble import RandomForestClassifier\n",
    "from sklearn.model_selection import train_test_split"
   ]
  },
  {
   "cell_type": "code",
   "execution_count": 2,
   "id": "0b3dc071",
   "metadata": {},
   "outputs": [],
   "source": [
    "df = pd.read_csv(\"../data/processed.csv\")"
   ]
  },
  {
   "cell_type": "code",
   "execution_count": 3,
   "id": "34b7c048",
   "metadata": {},
   "outputs": [],
   "source": [
    "symptom_columns = [col for col in df.columns if 'Symptoms' in col]\n",
    "\n",
    "all_symptoms = pd.unique(df[symptom_columns].values.ravel())\n",
    "unique_symptoms = [s for s in all_symptoms if pd.notna(s)] # Remove NaN values"
   ]
  },
  {
   "cell_type": "code",
   "execution_count": 4,
   "id": "cd640123",
   "metadata": {},
   "outputs": [],
   "source": [
    "# Strip spaces around each symptom in the comma-separated string\n",
    "df['Symptoms'] = df['Symptoms'].apply(\n",
    "    lambda x: ', '.join(sym.strip().lower().replace(' ', '') for sym in x.split(','))\n",
    ")"
   ]
  },
  {
   "cell_type": "code",
   "execution_count": 5,
   "id": "327e59b2",
   "metadata": {},
   "outputs": [],
   "source": [
    "df['Symptoms'] = df['Symptoms'].apply(lambda x: [sym.strip() for sym in x.split(',')])"
   ]
  },
  {
   "cell_type": "markdown",
   "id": "d650158d",
   "metadata": {},
   "source": [
    "### Extract all unique symptoms for one hot encoding"
   ]
  },
  {
   "cell_type": "code",
   "execution_count": 6,
   "id": "675ee9e0",
   "metadata": {},
   "outputs": [
    {
     "name": "stdout",
     "output_type": "stream",
     "text": [
      "Total unique symptoms: 131\n"
     ]
    }
   ],
   "source": [
    "# Step 1: Extract unique symptoms from all rows\n",
    "all_symptoms = set()\n",
    "for symptoms in df['Symptoms']:\n",
    "    all_symptoms.update(symptoms)\n",
    "\n",
    "# Sort the list for consistency\n",
    "unique_symptoms = sorted(list(all_symptoms))\n",
    "print(f\"Total unique symptoms: {len(unique_symptoms)}\")"
   ]
  },
  {
   "cell_type": "markdown",
   "id": "dd463654",
   "metadata": {},
   "source": [
    "### Create One Hot Encoded Features"
   ]
  },
  {
   "cell_type": "code",
   "execution_count": 7,
   "id": "a3c5e5a7",
   "metadata": {},
   "outputs": [],
   "source": [
    "mlb = MultiLabelBinarizer()\n",
    "one_hot = pd.DataFrame(mlb.fit_transform(df['Symptoms']), columns=mlb.classes_)\n",
    "\n",
    "# Combine with original dataframe\n",
    "df = pd.concat([df.drop(columns=['Symptoms']), one_hot], axis=1)\n"
   ]
  },
  {
   "cell_type": "markdown",
   "id": "270fea0f",
   "metadata": {},
   "source": [
    "### Encode Disease Labels as Target `y`"
   ]
  },
  {
   "cell_type": "code",
   "execution_count": 8,
   "id": "7ff8eec2",
   "metadata": {},
   "outputs": [],
   "source": [
    "# Initialize encoder\n",
    "le = LabelEncoder()\n",
    "\n",
    "# Fit and transform the Disease column\n",
    "df['Disease_Label'] = le.fit_transform(df['Disease'])\n",
    "\n",
    "# Store the target\n",
    "y = df['Disease_Label']"
   ]
  },
  {
   "cell_type": "markdown",
   "id": "b0e19bad",
   "metadata": {},
   "source": [
    "### Store `X` as Binary Symptom Vectors\n"
   ]
  },
  {
   "cell_type": "code",
   "execution_count": 9,
   "id": "edc7036a",
   "metadata": {},
   "outputs": [],
   "source": [
    "# Create X by selecting only symptom one-hot columns\n",
    "symptom_cols = [col for col in df.columns if col not in ['Disease', 'Disease_Label', 'Description', 'Precautions']]\n",
    "\n",
    "X = df[symptom_cols]"
   ]
  },
  {
   "cell_type": "markdown",
   "id": "b6676f8d",
   "metadata": {},
   "source": [
    "#### Split the data into train and test sets "
   ]
  },
  {
   "cell_type": "code",
   "execution_count": 10,
   "id": "4e7b32b5",
   "metadata": {},
   "outputs": [],
   "source": [
    "X_train, X_test, y_train, y_test = train_test_split(X, y, test_size=0.2, random_state=42)"
   ]
  },
  {
   "cell_type": "markdown",
   "id": "910cb784",
   "metadata": {},
   "source": [
    "#### Initialize the model and train the model"
   ]
  },
  {
   "cell_type": "code",
   "execution_count": 11,
   "id": "3332ae34",
   "metadata": {},
   "outputs": [
    {
     "data": {
      "text/html": [
       "<style>#sk-container-id-1 {color: black;}#sk-container-id-1 pre{padding: 0;}#sk-container-id-1 div.sk-toggleable {background-color: white;}#sk-container-id-1 label.sk-toggleable__label {cursor: pointer;display: block;width: 100%;margin-bottom: 0;padding: 0.3em;box-sizing: border-box;text-align: center;}#sk-container-id-1 label.sk-toggleable__label-arrow:before {content: \"▸\";float: left;margin-right: 0.25em;color: #696969;}#sk-container-id-1 label.sk-toggleable__label-arrow:hover:before {color: black;}#sk-container-id-1 div.sk-estimator:hover label.sk-toggleable__label-arrow:before {color: black;}#sk-container-id-1 div.sk-toggleable__content {max-height: 0;max-width: 0;overflow: hidden;text-align: left;background-color: #f0f8ff;}#sk-container-id-1 div.sk-toggleable__content pre {margin: 0.2em;color: black;border-radius: 0.25em;background-color: #f0f8ff;}#sk-container-id-1 input.sk-toggleable__control:checked~div.sk-toggleable__content {max-height: 200px;max-width: 100%;overflow: auto;}#sk-container-id-1 input.sk-toggleable__control:checked~label.sk-toggleable__label-arrow:before {content: \"▾\";}#sk-container-id-1 div.sk-estimator input.sk-toggleable__control:checked~label.sk-toggleable__label {background-color: #d4ebff;}#sk-container-id-1 div.sk-label input.sk-toggleable__control:checked~label.sk-toggleable__label {background-color: #d4ebff;}#sk-container-id-1 input.sk-hidden--visually {border: 0;clip: rect(1px 1px 1px 1px);clip: rect(1px, 1px, 1px, 1px);height: 1px;margin: -1px;overflow: hidden;padding: 0;position: absolute;width: 1px;}#sk-container-id-1 div.sk-estimator {font-family: monospace;background-color: #f0f8ff;border: 1px dotted black;border-radius: 0.25em;box-sizing: border-box;margin-bottom: 0.5em;}#sk-container-id-1 div.sk-estimator:hover {background-color: #d4ebff;}#sk-container-id-1 div.sk-parallel-item::after {content: \"\";width: 100%;border-bottom: 1px solid gray;flex-grow: 1;}#sk-container-id-1 div.sk-label:hover label.sk-toggleable__label {background-color: #d4ebff;}#sk-container-id-1 div.sk-serial::before {content: \"\";position: absolute;border-left: 1px solid gray;box-sizing: border-box;top: 0;bottom: 0;left: 50%;z-index: 0;}#sk-container-id-1 div.sk-serial {display: flex;flex-direction: column;align-items: center;background-color: white;padding-right: 0.2em;padding-left: 0.2em;position: relative;}#sk-container-id-1 div.sk-item {position: relative;z-index: 1;}#sk-container-id-1 div.sk-parallel {display: flex;align-items: stretch;justify-content: center;background-color: white;position: relative;}#sk-container-id-1 div.sk-item::before, #sk-container-id-1 div.sk-parallel-item::before {content: \"\";position: absolute;border-left: 1px solid gray;box-sizing: border-box;top: 0;bottom: 0;left: 50%;z-index: -1;}#sk-container-id-1 div.sk-parallel-item {display: flex;flex-direction: column;z-index: 1;position: relative;background-color: white;}#sk-container-id-1 div.sk-parallel-item:first-child::after {align-self: flex-end;width: 50%;}#sk-container-id-1 div.sk-parallel-item:last-child::after {align-self: flex-start;width: 50%;}#sk-container-id-1 div.sk-parallel-item:only-child::after {width: 0;}#sk-container-id-1 div.sk-dashed-wrapped {border: 1px dashed gray;margin: 0 0.4em 0.5em 0.4em;box-sizing: border-box;padding-bottom: 0.4em;background-color: white;}#sk-container-id-1 div.sk-label label {font-family: monospace;font-weight: bold;display: inline-block;line-height: 1.2em;}#sk-container-id-1 div.sk-label-container {text-align: center;}#sk-container-id-1 div.sk-container {/* jupyter's `normalize.less` sets `[hidden] { display: none; }` but bootstrap.min.css set `[hidden] { display: none !important; }` so we also need the `!important` here to be able to override the default hidden behavior on the sphinx rendered scikit-learn.org. See: https://github.com/scikit-learn/scikit-learn/issues/21755 */display: inline-block !important;position: relative;}#sk-container-id-1 div.sk-text-repr-fallback {display: none;}</style><div id=\"sk-container-id-1\" class=\"sk-top-container\"><div class=\"sk-text-repr-fallback\"><pre>RandomForestClassifier(random_state=42)</pre><b>In a Jupyter environment, please rerun this cell to show the HTML representation or trust the notebook. <br />On GitHub, the HTML representation is unable to render, please try loading this page with nbviewer.org.</b></div><div class=\"sk-container\" hidden><div class=\"sk-item\"><div class=\"sk-estimator sk-toggleable\"><input class=\"sk-toggleable__control sk-hidden--visually\" id=\"sk-estimator-id-1\" type=\"checkbox\" checked><label for=\"sk-estimator-id-1\" class=\"sk-toggleable__label sk-toggleable__label-arrow\">RandomForestClassifier</label><div class=\"sk-toggleable__content\"><pre>RandomForestClassifier(random_state=42)</pre></div></div></div></div></div>"
      ],
      "text/plain": [
       "RandomForestClassifier(random_state=42)"
      ]
     },
     "execution_count": 11,
     "metadata": {},
     "output_type": "execute_result"
    }
   ],
   "source": [
    "model = RandomForestClassifier(n_estimators=100, random_state=42)\n",
    "model.fit(X_train, y_train)"
   ]
  },
  {
   "cell_type": "code",
   "execution_count": 12,
   "id": "cb790fb7",
   "metadata": {},
   "outputs": [],
   "source": [
    "y_pred = model.predict(X_test)"
   ]
  },
  {
   "cell_type": "code",
   "execution_count": 13,
   "id": "17cc92aa",
   "metadata": {},
   "outputs": [],
   "source": [
    "# Write a function to take user symptoms as input string\n",
    "\n",
    "def get_user_symptoms():\n",
    "    user_input = input(\"Enter your symptoms separated by commas: \")\n",
    "    # Clean and standardize\n",
    "    symptoms = [s.strip().lower().replace(\" \", \"_\") for s in user_input.split(\",\")]\n",
    "    return symptoms"
   ]
  },
  {
   "cell_type": "code",
   "execution_count": 14,
   "id": "cec5af3d",
   "metadata": {},
   "outputs": [],
   "source": [
    "#  Encode user input into binary vector\n",
    "\n",
    "def encode_symptoms(user_symptoms, symptom_list):\n",
    "    # Initialize all 0s\n",
    "    input_vector = [0] * len(symptom_list)\n",
    "    \n",
    "    # Mark 1 for symptoms present\n",
    "    for idx, symptom in enumerate(symptom_list):\n",
    "        if symptom in user_symptoms:\n",
    "            input_vector[idx] = 1\n",
    "    return [input_vector]  # Return 2D array (model expects batch)\n"
   ]
  },
  {
   "cell_type": "code",
   "execution_count": 15,
   "id": "06f0e82d",
   "metadata": {},
   "outputs": [],
   "source": [
    "# Predict the disease using the trained model\n",
    "\n",
    "def predict_disease(input_vector, model, label_encoder):\n",
    "    pred_encoded = model.predict(input_vector)[0]\n",
    "    disease = label_encoder.inverse_transform([pred_encoded])[0]\n",
    "    return disease\n"
   ]
  },
  {
   "cell_type": "code",
   "execution_count": 16,
   "id": "4cfba5d9",
   "metadata": {},
   "outputs": [],
   "source": [
    "# Retrieve and display additional information\n",
    "\n",
    "def get_disease_info(disease, df):\n",
    "    row = df[df['Disease'] == disease].iloc[0]\n",
    "    return row['Description'], row['Precautions']\n"
   ]
  },
  {
   "cell_type": "code",
   "execution_count": 17,
   "id": "354e2182",
   "metadata": {},
   "outputs": [],
   "source": [
    "def disease_prediction_interface(df, model, label_encoder):\n",
    "    symptom_list = list(X.columns)  # Your one-hot symptom feature list\n",
    "    user_symptoms = get_user_symptoms()\n",
    "    \n",
    "    input_vector = encode_symptoms(user_symptoms, symptom_list)\n",
    "    predicted_disease = predict_disease(input_vector, model, label_encoder)\n",
    "    \n",
    "    description, precautions = get_disease_info(predicted_disease, df)\n",
    "    \n",
    "    print(\"\\n🧾 Predicted Disease:\", predicted_disease)\n",
    "    print(\"\\n📖 Description:\\n\", description)\n",
    "    print(\"\\n🩺 Precautions:\")\n",
    "    for p in precautions.split(','):\n",
    "        print(\"-\", p.strip())\n"
   ]
  },
  {
   "cell_type": "code",
   "execution_count": 18,
   "id": "3db0ffe7",
   "metadata": {},
   "outputs": [
    {
     "data": {
      "text/plain": [
       "['../model/meta/label_encoder.pkl']"
      ]
     },
     "execution_count": 18,
     "metadata": {},
     "output_type": "execute_result"
    }
   ],
   "source": [
    "# save the model\n",
    "joblib.dump(model, '../model/disease_predictor_model.joblib')\n",
    "\n",
    "# Save the list of all symptoms (column names used for encoding)\n",
    "all_symptoms = list(X.columns)\n",
    "joblib.dump(all_symptoms, '../model/meta/symptom_list.pkl')\n",
    "\n",
    "# Create a dictionary: disease -> {description, precautions}\n",
    "metadata = {}\n",
    "for _, row in df.iterrows():\n",
    "    metadata[row['Disease']] = {\n",
    "        \"description\": row['Description'],\n",
    "        \"precautions\": [p.strip() for p in row['Precautions'].split(',')]\n",
    "    }\n",
    "\n",
    "# Save this metadata dictionary\n",
    "joblib.dump(metadata, '../model/meta/disease_metadata.pkl')\n",
    "\n",
    "# Save this Label Encoder\n",
    "joblib.dump(le, '../model/meta/label_encoder.pkl')\n"
   ]
  },
  {
   "cell_type": "code",
   "execution_count": 19,
   "id": "32084df9",
   "metadata": {},
   "outputs": [],
   "source": [
    "# Load everything when reusing the model\n",
    "model = joblib.load('../model/disease_predictor_model.joblib')\n",
    "symptom_list = joblib.load('../model/meta/symptom_list.pkl')\n",
    "metadata = joblib.load('../model/meta/disease_metadata.pkl')\n",
    "le = joblib.load('../model/meta/label_encoder.pkl')\n"
   ]
  }
 ],
 "metadata": {
  "kernelspec": {
   "display_name": "Python 3",
   "language": "python",
   "name": "python3"
  },
  "language_info": {
   "codemirror_mode": {
    "name": "ipython",
    "version": 3
   },
   "file_extension": ".py",
   "mimetype": "text/x-python",
   "name": "python",
   "nbconvert_exporter": "python",
   "pygments_lexer": "ipython3",
   "version": "3.11.5"
  }
 },
 "nbformat": 4,
 "nbformat_minor": 5
}
